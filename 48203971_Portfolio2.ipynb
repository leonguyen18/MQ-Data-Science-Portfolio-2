{
  "cells": [
    {
      "cell_type": "markdown",
      "id": "Z88FfJc9lA_T",
      "metadata": {
        "id": "Z88FfJc9lA_T"
      },
      "source": [
        "## Analysis of an E-commerce Dataset Part 2"
      ]
    },
    {
      "cell_type": "markdown",
      "id": "hoq0NwA9lA_V",
      "metadata": {
        "id": "hoq0NwA9lA_V"
      },
      "source": [
        "The goal of the second analysis task is to train linear regression models to predict users' ratings towards items. This involves a standard Data Science workflow: exploring data, building models, making predictions, and evaluating results. In this task, we will explore the impacts of feature selections and different sizes of training/testing data on the model performance. We will use another cleaned combined e-commerce sub-dataset that **is different from** the one in “Analysis of an E-commerce Dataset” task 1."
      ]
    },
    {
      "cell_type": "code",
      "execution_count": 75,
      "id": "48c24d4d",
      "metadata": {},
      "outputs": [],
      "source": [
        "import pandas as pd\n",
        "import numpy as np\n",
        "from sklearn.model_selection import train_test_split\n",
        "from sklearn import linear_model\n",
        "from sklearn.metrics import mean_squared_error, r2_score\n",
        "from sklearn.preprocessing import OrdinalEncoder\n",
        "\n",
        "import seaborn as sns\n",
        "import matplotlib.pylab as plt\n",
        "%matplotlib inline"
      ]
    },
    {
      "cell_type": "markdown",
      "id": "f9fd3NU_lA_W",
      "metadata": {
        "id": "f9fd3NU_lA_W"
      },
      "source": [
        "### Import Cleaned E-commerce Dataset\n",
        "The csv file named 'cleaned_ecommerce_dataset.csv' is provided. You may need to use the Pandas method, i.e., `read_csv`, for reading it. After that, please print out its total length."
      ]
    },
    {
      "cell_type": "code",
      "execution_count": 76,
      "id": "PJrb2gtAlA_W",
      "metadata": {
        "id": "PJrb2gtAlA_W"
      },
      "outputs": [
        {
          "name": "stdout",
          "output_type": "stream",
          "text": [
            "Length of the data:  2685\n"
          ]
        }
      ],
      "source": [
        "# Load the data file and display the DataFrame:\n",
        "import pandas as pd\n",
        "df = pd.read_csv('cleaned_ecommerce_dataset.csv')\n",
        "print(\"Length of the data: \", len(df))\n",
        "\n",
        "# Set display width\n",
        "pd.set_option('display.width', 1000)"
      ]
    },
    {
      "cell_type": "code",
      "execution_count": 77,
      "id": "9df79a6f",
      "metadata": {},
      "outputs": [
        {
          "name": "stdout",
          "output_type": "stream",
          "text": [
            "\n",
            "Summary of numerical data:\n",
            "\n",
            "        rating  helpfulness  item_price\n",
            "count  2685.00      2685.00     2685.00\n",
            "mean      3.71         3.91       83.09\n",
            "std       1.35         0.29       42.23\n",
            "min       1.00         3.00       12.00\n",
            "25%       3.00         4.00       49.00\n",
            "50%       4.00         4.00       73.65\n",
            "75%       5.00         4.00      129.82\n",
            "max       5.00         4.00      149.00\n",
            "------------------------------------------------------------------------------------------------------------\n",
            "\n",
            "Summary of categorical data:\n",
            "\n",
            "        userId gender                review                  item category  item_id  user_city\n",
            "count     2685   2685                  2685                  2685     2685     2685       2685\n",
            "unique     267      2                  2675                    82        9       82         40\n",
            "top       6408      M  Being John Malkovich  AOL (America Online)   Movies        0         27\n",
            "freq        33   1407                     3                    93     1190       93        167\n"
          ]
        }
      ],
      "source": [
        "df_summary = df.copy()\n",
        "\n",
        "# Convert 'userId', 'item_id', 'user_city' to object data type\n",
        "df_summary['userId'] = df_summary['userId'].astype('object')\n",
        "df_summary['item_id'] = df_summary['item_id'].astype('object')\n",
        "df_summary['user_city'] = df_summary['user_city'].astype('object')\n",
        "\n",
        "# Summary of numerical data\n",
        "numerical_columns = ['rating', 'helpfulness', 'item_price']\n",
        "numerical_summary = df_summary[numerical_columns].describe().round(2)\n",
        "print(\"\\nSummary of numerical data:\\n\")\n",
        "print(numerical_summary)\n",
        "\n",
        "print ('------------------------------------------------------------------------------------------------------------')\n",
        "\n",
        "# Summary of categorical data\n",
        "categorical_columns = ['userId', 'gender', 'review', 'item', 'category', 'item_id', 'user_city']\n",
        "categorical_summary = df_summary[categorical_columns].describe(include=['O'])\n",
        "print(\"\\nSummary of categorical data:\\n\")\n",
        "print(categorical_summary)"
      ]
    },
    {
      "cell_type": "markdown",
      "id": "aqbuU6rglA_X",
      "metadata": {
        "id": "aqbuU6rglA_X"
      },
      "source": [
        "### Explore the Dataset\n",
        "\n",
        "* Use the methods, i.e., `head()` and `info()`, to have a rough picture about the data, e.g., how many columns, and the data types of each column.\n",
        "* As our goal is to predict ratings given other columns, please get the correlations between helpfulness/gender/category/review and rating by using the `corr()` method.\n",
        "\n",
        "  Hints: To get the correlations between different features, you may need to first convert the categorical features (i.e., gender, category and review) into numerial values. For doing this, you may need to import `OrdinalEncoder` from `sklearn.preprocessing` (refer to the useful exmaples [here](https://pbpython.com/categorical-encoding.html))\n",
        "* Please provide ___necessary explanations/analysis___ on the correlations, and figure out which are the ___most___ and ___least___ correlated features regarding rating. Try to ___discuss___ how the correlation will affect the final prediction results, if we use these features to train a regression model for rating prediction. In what follows, we will conduct experiments to verify your hypothesis."
      ]
    },
    {
      "cell_type": "markdown",
      "id": "5675059a",
      "metadata": {},
      "source": [
        "#### 1.1. Brief information about the data"
      ]
    },
    {
      "cell_type": "code",
      "execution_count": 78,
      "id": "W3PImHiElA_X",
      "metadata": {
        "id": "W3PImHiElA_X"
      },
      "outputs": [
        {
          "name": "stdout",
          "output_type": "stream",
          "text": [
            "The current DataFrame:  \n",
            "    userId  timestamp                                           review                                item  rating  helpfulness gender               category  item_id  item_price  user_city\n",
            "0    4081      71900                                Not always McCrap                          McDonald's     4.0          3.0      M  Restaurants & Gourmet       41       30.74          4\n",
            "1    4081      72000  I dropped the chalupa even before he told me to                           Taco Bell     1.0          4.0      M  Restaurants & Gourmet       74      108.30          4\n",
            "2    4081      72000                     The Wonderful World of Wendy                             Wendy's     5.0          4.0      M  Restaurants & Gourmet       84       69.00          4\n",
            "3    4081     100399                             They actually did it  South Park: Bigger, Longer & Uncut     5.0          3.0      M                 Movies       68      143.11          4\n",
            "4    4081     100399                             Hey! Gimme some pie!                        American Pie     3.0          3.0      M                 Movies        6      117.89          4\n",
            "---------------------------------------------------\n",
            "<class 'pandas.core.frame.DataFrame'>\n",
            "RangeIndex: 2685 entries, 0 to 2684\n",
            "Data columns (total 11 columns):\n",
            " #   Column       Non-Null Count  Dtype  \n",
            "---  ------       --------------  -----  \n",
            " 0   userId       2685 non-null   int64  \n",
            " 1   timestamp    2685 non-null   int64  \n",
            " 2   review       2685 non-null   object \n",
            " 3   item         2685 non-null   object \n",
            " 4   rating       2685 non-null   float64\n",
            " 5   helpfulness  2685 non-null   float64\n",
            " 6   gender       2685 non-null   object \n",
            " 7   category     2685 non-null   object \n",
            " 8   item_id      2685 non-null   int64  \n",
            " 9   item_price   2685 non-null   float64\n",
            " 10  user_city    2685 non-null   int64  \n",
            "dtypes: float64(3), int64(4), object(4)\n",
            "memory usage: 230.9+ KB\n",
            "None\n"
          ]
        }
      ],
      "source": [
        "print ('The current DataFrame: ','\\n', df.head(5))\n",
        "print ('---------------------------------------------------')\n",
        "print (df.info())"
      ]
    },
    {
      "cell_type": "markdown",
      "id": "46b32377",
      "metadata": {},
      "source": [
        "#### 1.2. The correlations between helpfulness/gender/category/review and rating"
      ]
    },
    {
      "cell_type": "markdown",
      "id": "2911d1de",
      "metadata": {},
      "source": [
        "##### Convert categorical variables to numerical"
      ]
    },
    {
      "cell_type": "code",
      "execution_count": 79,
      "id": "c26af291",
      "metadata": {},
      "outputs": [
        {
          "name": "stdout",
          "output_type": "stream",
          "text": [
            "The current DataFrame after encoding:  \n",
            "    userId  timestamp                                           review                                item  rating  helpfulness gender               category  item_id  item_price  user_city  gender_encode  category_encode  review_encode\n",
            "0    4081      71900                                Not always McCrap                          McDonald's     4.0          3.0      M  Restaurants & Gourmet       41       30.74          4            1.0              8.0         1618.0\n",
            "1    4081      72000  I dropped the chalupa even before he told me to                           Taco Bell     1.0          4.0      M  Restaurants & Gourmet       74      108.30          4            1.0              8.0         1125.0\n",
            "2    4081      72000                     The Wonderful World of Wendy                             Wendy's     5.0          4.0      M  Restaurants & Gourmet       84       69.00          4            1.0              8.0         2185.0\n",
            "3    4081     100399                             They actually did it  South Park: Bigger, Longer & Uncut     5.0          3.0      M                 Movies       68      143.11          4            1.0              5.0         2243.0\n",
            "4    4081     100399                             Hey! Gimme some pie!                        American Pie     3.0          3.0      M                 Movies        6      117.89          4            1.0              5.0         1033.0\n"
          ]
        }
      ],
      "source": [
        "# Convert categorical variables to numerical\n",
        "ord_enc = OrdinalEncoder()\n",
        "df[['gender_encode', 'category_encode', 'review_encode']] = ord_enc.fit_transform(df[['gender', 'category', 'review']])\n",
        "\n",
        "print ('The current DataFrame after encoding: ','\\n', df.head(5))"
      ]
    },
    {
      "cell_type": "code",
      "execution_count": 81,
      "id": "bcb2cce8",
      "metadata": {},
      "outputs": [
        {
          "name": "stdout",
          "output_type": "stream",
          "text": [
            "<class 'pandas.core.frame.DataFrame'>\n",
            "RangeIndex: 2685 entries, 0 to 2684\n",
            "Data columns (total 14 columns):\n",
            " #   Column           Non-Null Count  Dtype  \n",
            "---  ------           --------------  -----  \n",
            " 0   userId           2685 non-null   int64  \n",
            " 1   timestamp        2685 non-null   int64  \n",
            " 2   review           2685 non-null   object \n",
            " 3   item             2685 non-null   object \n",
            " 4   rating           2685 non-null   float64\n",
            " 5   helpfulness      2685 non-null   float64\n",
            " 6   gender           2685 non-null   object \n",
            " 7   category         2685 non-null   object \n",
            " 8   item_id          2685 non-null   int64  \n",
            " 9   item_price       2685 non-null   float64\n",
            " 10  user_city        2685 non-null   int64  \n",
            " 11  gender_encode    2685 non-null   float64\n",
            " 12  category_encode  2685 non-null   float64\n",
            " 13  review_encode    2685 non-null   float64\n",
            "dtypes: float64(6), int64(4), object(4)\n",
            "memory usage: 293.8+ KB\n"
          ]
        }
      ],
      "source": [
        "df.info()"
      ]
    },
    {
      "cell_type": "markdown",
      "id": "7d304815",
      "metadata": {},
      "source": [
        "##### Calculate the correlations between variables"
      ]
    },
    {
      "cell_type": "code",
      "execution_count": 82,
      "id": "70d71e05",
      "metadata": {},
      "outputs": [
        {
          "data": {
            "text/html": [
              "<div>\n",
              "<style scoped>\n",
              "    .dataframe tbody tr th:only-of-type {\n",
              "        vertical-align: middle;\n",
              "    }\n",
              "\n",
              "    .dataframe tbody tr th {\n",
              "        vertical-align: top;\n",
              "    }\n",
              "\n",
              "    .dataframe thead th {\n",
              "        text-align: right;\n",
              "    }\n",
              "</style>\n",
              "<table border=\"1\" class=\"dataframe\">\n",
              "  <thead>\n",
              "    <tr style=\"text-align: right;\">\n",
              "      <th></th>\n",
              "      <th>rating</th>\n",
              "      <th>helpfulness</th>\n",
              "      <th>gender_encode</th>\n",
              "      <th>category_encode</th>\n",
              "      <th>review_encode</th>\n",
              "    </tr>\n",
              "  </thead>\n",
              "  <tbody>\n",
              "    <tr>\n",
              "      <th>rating</th>\n",
              "      <td>1.000000</td>\n",
              "      <td>-0.007523</td>\n",
              "      <td>-0.034337</td>\n",
              "      <td>-0.163158</td>\n",
              "      <td>-0.036118</td>\n",
              "    </tr>\n",
              "    <tr>\n",
              "      <th>helpfulness</th>\n",
              "      <td>-0.007523</td>\n",
              "      <td>1.000000</td>\n",
              "      <td>0.075947</td>\n",
              "      <td>-0.013408</td>\n",
              "      <td>-0.028259</td>\n",
              "    </tr>\n",
              "    <tr>\n",
              "      <th>gender_encode</th>\n",
              "      <td>-0.034337</td>\n",
              "      <td>0.075947</td>\n",
              "      <td>1.000000</td>\n",
              "      <td>0.022549</td>\n",
              "      <td>-0.037884</td>\n",
              "    </tr>\n",
              "    <tr>\n",
              "      <th>category_encode</th>\n",
              "      <td>-0.163158</td>\n",
              "      <td>-0.013408</td>\n",
              "      <td>0.022549</td>\n",
              "      <td>1.000000</td>\n",
              "      <td>0.001970</td>\n",
              "    </tr>\n",
              "    <tr>\n",
              "      <th>review_encode</th>\n",
              "      <td>-0.036118</td>\n",
              "      <td>-0.028259</td>\n",
              "      <td>-0.037884</td>\n",
              "      <td>0.001970</td>\n",
              "      <td>1.000000</td>\n",
              "    </tr>\n",
              "  </tbody>\n",
              "</table>\n",
              "</div>"
            ],
            "text/plain": [
              "                   rating  helpfulness  gender_encode  category_encode  review_encode\n",
              "rating           1.000000    -0.007523      -0.034337        -0.163158      -0.036118\n",
              "helpfulness     -0.007523     1.000000       0.075947        -0.013408      -0.028259\n",
              "gender_encode   -0.034337     0.075947       1.000000         0.022549      -0.037884\n",
              "category_encode -0.163158    -0.013408       0.022549         1.000000       0.001970\n",
              "review_encode   -0.036118    -0.028259      -0.037884         0.001970       1.000000"
            ]
          },
          "execution_count": 82,
          "metadata": {},
          "output_type": "execute_result"
        }
      ],
      "source": [
        "# Select the columns: 'rating', 'helpfulness' and encoded variables of 'gender_encode', 'category_encode', 'review_encode'\n",
        "selected_columns = df[['rating', 'helpfulness', 'gender_encode', 'category_encode', 'review_encode']]\n",
        "\n",
        "# Calculate correlation matrix\n",
        "correlation_matrix = selected_columns.corr()\n",
        "correlation_matrix\n"
      ]
    },
    {
      "cell_type": "code",
      "execution_count": 83,
      "id": "5a5216bf",
      "metadata": {},
      "outputs": [
        {
          "data": {
            "text/plain": [
              "<Axes: >"
            ]
          },
          "execution_count": 83,
          "metadata": {},
          "output_type": "execute_result"
        },
        {
          "data": {
            "image/png": "[encoded data removed]",
            "text/plain": [
              "<Figure size 640x480 with 2 Axes>"
            ]
          },
          "metadata": {},
          "output_type": "display_data"
        }
      ],
      "source": [
        "sns.heatmap (correlation_matrix)"
      ]
    },
    {
      "cell_type": "markdown",
      "id": "9926ed6d",
      "metadata": {},
      "source": [
        "#### 1.3. Please provide necessary explanations/analysis on the correlations, and figure out which are the most and least correlated features regarding rating. Try to discuss how the correlation will affect the final prediction results, if we use these features to train a regression model for rating prediction. In what follows, we will conduct experiments to verify your hypothesis."
      ]
    },
    {
      "cell_type": "markdown",
      "id": "f52373a3",
      "metadata": {},
      "source": [
        "##### Based on the correlation coefficients, we can identify the most and least correlated features with respect to \"rating\":\n",
        "\n",
        "1. Least correlated features with 'rating':\n",
        "\n",
        "    - \"helpfulness\" has a correlation of -0.007523 with rating, which is the lowest value (closest to 0) among the given features.\n",
        "    \n",
        "    - \"gender_encode\" has a correlation of -0.034337 with rating, which is the second-lowest.\n",
        "\n",
        "2. Most correlated features with 'rating':\n",
        "\n",
        "    - \"category_encode\" has a correlation of -0.163158 with rating, which is the highest absolute value.\n",
        "\n",
        "    - \"review_encode\" has a correlation of -0.036118 with rating, which is the second-highest in absolute value.\n",
        "\n",
        "3. Regarding the impact of these correlations on the final prediction results when training a regression model for rating prediction:\n",
        "\n",
        "    - Features with higher coefficients of correlation (in absolute value) tend to have a stronger relationship with the target variable \"rating\", while those closer to 0 may have weaker impacts on our \"rating\" at all.\n",
        "\n",
        "    - For example, variables such as \"category_encode\" and \"review_encode\" are likely to have more significant influence on the prediction of 'rating', even in negative direction. As for \"helpfulness\" and \"gender_encode\", however, their effects on our predictions might be less clear.\n",
        "    \n",
        "    "
      ]
    },
    {
      "cell_type": "markdown",
      "id": "4myP5igslA_Y",
      "metadata": {
        "id": "4myP5igslA_Y"
      },
      "source": [
        "### Split Training and Testing Data\n",
        "* Machine learning models are trained to help make predictions for the future. Normally, we need to randomly split the dataset into training and testing sets, where we use the training set to train the model, and then leverage the well-trained model to make predictions on the testing set.\n",
        "* To further investigate whether the size of the training/testing data affects the model performance, please random split the data into training and testing sets with different sizes:\n",
        "    * Case 1: training data containing 10% of the entire data;\n",
        "    * Case 2: training data containing 90% of the entire data.\n",
        "* Print the shape of training and testing sets in the two cases."
      ]
    },
    {
      "cell_type": "code",
      "execution_count": 93,
      "id": "2bdb6380",
      "metadata": {},
      "outputs": [
        {
          "name": "stdout",
          "output_type": "stream",
          "text": [
            "Case 1:\n",
            "Training set shape: (268, 13) (268,)\n",
            "Testing set shape: (2417, 13) (2417,)\n",
            "\n",
            "Case 2:\n",
            "Training set shape: (2416, 13) (2416,)\n",
            "Testing set shape: (269, 13) (269,)\n"
          ]
        }
      ],
      "source": [
        "# Split the data into training and testing sets\n",
        "def split_data(df, target_column, test_size, random_state=150):\n",
        "    X = df.drop(target_column, axis=1)\n",
        "    y = df[target_column]\n",
        "    X_train, X_test, y_train, y_test = train_test_split(X, y, test_size=test_size, random_state=random_state)\n",
        "    return X_train, X_test, y_train, y_test\n",
        "\n",
        "# Case 1: Training data contains 10% of the entire data\n",
        "X_train_1, X_test_1, y_train_1, y_test_1 = split_data(df, 'rating', test_size=0.9,random_state=150)\n",
        "\n",
        "# Case 2: Training data contains 90% of the entire data\n",
        "X_train_2, X_test_2, y_train_2, y_test_2 = split_data(df, 'rating', test_size=0.1,random_state=150)\n",
        "\n",
        "# The shape of the training and testing sets\n",
        "print(\"Case 1:\")\n",
        "print(\"Training set shape:\", X_train_1.shape, y_train_1.shape)\n",
        "print(\"Testing set shape:\", X_test_1.shape, y_test_1.shape)\n",
        "\n",
        "print(\"\\nCase 2:\")\n",
        "print(\"Training set shape:\", X_train_2.shape, y_train_2.shape)\n",
        "print(\"Testing set shape:\", X_test_2.shape, y_test_2.shape)\n"
      ]
    },
    {
      "cell_type": "markdown",
      "id": "DjSsgT0BlA_Y",
      "metadata": {
        "id": "DjSsgT0BlA_Y"
      },
      "source": [
        "### Train Linear Regression Models with Feature Selection under Cases 1 & 2\n",
        "* When training a machine learning model for prediction, we may need to select the most important/correlated input features for more accurate results.\n",
        "* To investigate whether feature selection affects the model performance, please select two most correlated features and two least correlated features from helpfulness/gender/category/review regarding rating, respectively.\n",
        "* Train four linear regression models by following the conditions:\n",
        "    - (model-a) using the training/testing data in case 1 with two most correlated input features\n",
        "    - (model-b) using the training/testing data in case 1 with two least correlated input features\n",
        "    - (model-c) using the training/testing data in case 2 with two most correlated input features\n",
        "    - (model-d) using the training/testing data in case 2 with two least correlated input features\n",
        "* By doing this, we can verify the impacts of the size of training/testing data on the model performance via comparing model-a and model-c (or model-b and model-d); meanwhile the impacts of feature selection can be validated via comparing model-a and model-b (or model-c and model-d).    \n",
        "\n",
        "* Regarding ***'rating'***:\n",
        "    - <font color=\"orange\">Two most correlated variables: ***'category (encoded)'*** and ***'review (encoded)*** </font> \n",
        "    - <font color=\"orange\">Two least correlated variables: ***'helpfulness'*** and ***'gender (encoded)*** </font> "
      ]
    },
    {
      "cell_type": "code",
      "execution_count": 96,
      "id": "fffc6e00",
      "metadata": {},
      "outputs": [
        {
          "data": {
            "text/html": [
              "<style>#sk-container-id-7 {color: black;}#sk-container-id-7 pre{padding: 0;}#sk-container-id-7 div.sk-toggleable {background-color: white;}#sk-container-id-7 label.sk-toggleable__label {cursor: pointer;display: block;width: 100%;margin-bottom: 0;padding: 0.3em;box-sizing: border-box;text-align: center;}#sk-container-id-7 label.sk-toggleable__label-arrow:before {content: \"▸\";float: left;margin-right: 0.25em;color: #696969;}#sk-container-id-7 label.sk-toggleable__label-arrow:hover:before {color: black;}#sk-container-id-7 div.sk-estimator:hover label.sk-toggleable__label-arrow:before {color: black;}#sk-container-id-7 div.sk-toggleable__content {max-height: 0;max-width: 0;overflow: hidden;text-align: left;background-color: #f0f8ff;}#sk-container-id-7 div.sk-toggleable__content pre {margin: 0.2em;color: black;border-radius: 0.25em;background-color: #f0f8ff;}#sk-container-id-7 input.sk-toggleable__control:checked~div.sk-toggleable__content {max-height: 200px;max-width: 100%;overflow: auto;}#sk-container-id-7 input.sk-toggleable__control:checked~label.sk-toggleable__label-arrow:before {content: \"▾\";}#sk-container-id-7 div.sk-estimator input.sk-toggleable__control:checked~label.sk-toggleable__label {background-color: #d4ebff;}#sk-container-id-7 div.sk-label input.sk-toggleable__control:checked~label.sk-toggleable__label {background-color: #d4ebff;}#sk-container-id-7 input.sk-hidden--visually {border: 0;clip: rect(1px 1px 1px 1px);clip: rect(1px, 1px, 1px, 1px);height: 1px;margin: -1px;overflow: hidden;padding: 0;position: absolute;width: 1px;}#sk-container-id-7 div.sk-estimator {font-family: monospace;background-color: #f0f8ff;border: 1px dotted black;border-radius: 0.25em;box-sizing: border-box;margin-bottom: 0.5em;}#sk-container-id-7 div.sk-estimator:hover {background-color: #d4ebff;}#sk-container-id-7 div.sk-parallel-item::after {content: \"\";width: 100%;border-bottom: 1px solid gray;flex-grow: 1;}#sk-container-id-7 div.sk-label:hover label.sk-toggleable__label {background-color: #d4ebff;}#sk-container-id-7 div.sk-serial::before {content: \"\";position: absolute;border-left: 1px solid gray;box-sizing: border-box;top: 0;bottom: 0;left: 50%;z-index: 0;}#sk-container-id-7 div.sk-serial {display: flex;flex-direction: column;align-items: center;background-color: white;padding-right: 0.2em;padding-left: 0.2em;position: relative;}#sk-container-id-7 div.sk-item {position: relative;z-index: 1;}#sk-container-id-7 div.sk-parallel {display: flex;align-items: stretch;justify-content: center;background-color: white;position: relative;}#sk-container-id-7 div.sk-item::before, #sk-container-id-7 div.sk-parallel-item::before {content: \"\";position: absolute;border-left: 1px solid gray;box-sizing: border-box;top: 0;bottom: 0;left: 50%;z-index: -1;}#sk-container-id-7 div.sk-parallel-item {display: flex;flex-direction: column;z-index: 1;position: relative;background-color: white;}#sk-container-id-7 div.sk-parallel-item:first-child::after {align-self: flex-end;width: 50%;}#sk-container-id-7 div.sk-parallel-item:last-child::after {align-self: flex-start;width: 50%;}#sk-container-id-7 div.sk-parallel-item:only-child::after {width: 0;}#sk-container-id-7 div.sk-dashed-wrapped {border: 1px dashed gray;margin: 0 0.4em 0.5em 0.4em;box-sizing: border-box;padding-bottom: 0.4em;background-color: white;}#sk-container-id-7 div.sk-label label {font-family: monospace;font-weight: bold;display: inline-block;line-height: 1.2em;}#sk-container-id-7 div.sk-label-container {text-align: center;}#sk-container-id-7 div.sk-container {/* jupyter's `normalize.less` sets `[hidden] { display: none; }` but bootstrap.min.css set `[hidden] { display: none !important; }` so we also need the `!important` here to be able to override the default hidden behavior on the sphinx rendered scikit-learn.org. See: https://github.com/scikit-learn/scikit-learn/issues/21755 */display: inline-block !important;position: relative;}#sk-container-id-7 div.sk-text-repr-fallback {display: none;}</style><div id=\"sk-container-id-7\" class=\"sk-top-container\"><div class=\"sk-text-repr-fallback\"><pre>LinearRegression()</pre><b>In a Jupyter environment, please rerun this cell to show the HTML representation or trust the notebook. <br />On GitHub, the HTML representation is unable to render, please try loading this page with nbviewer.org.</b></div><div class=\"sk-container\" hidden><div class=\"sk-item\"><div class=\"sk-estimator sk-toggleable\"><input class=\"sk-toggleable__control sk-hidden--visually\" id=\"sk-estimator-id-7\" type=\"checkbox\" checked><label for=\"sk-estimator-id-7\" class=\"sk-toggleable__label sk-toggleable__label-arrow\">LinearRegression</label><div class=\"sk-toggleable__content\"><pre>LinearRegression()</pre></div></div></div></div></div>"
            ],
            "text/plain": [
              "LinearRegression()"
            ]
          },
          "execution_count": 96,
          "metadata": {},
          "output_type": "execute_result"
        }
      ],
      "source": [
        "def prepare_data(df, features, target_column, test_size, random_state=150):\n",
        "    X = df[features]\n",
        "    y = df[target_column]\n",
        "    X_train, X_test, y_train, y_test = train_test_split(X, y, test_size=test_size, random_state=random_state)\n",
        "    return X_train, X_test, y_train, y_test\n",
        "\n",
        "# Define the most and least correlated features\n",
        "most_correlated_features = ['category_encode', 'review_encode']\n",
        "least_correlated_features = ['helpfulness', 'gender_encode']\n",
        "\n",
        "# Case 1: Training data contains 10% of the entire data\n",
        "X_train_1a, X_test_1a, y_train_1a, y_test_1a = prepare_data(df, most_correlated_features, 'rating', test_size=0.9)\n",
        "X_train_1b, X_test_1b, y_train_1b, y_test_1b = prepare_data(df, least_correlated_features, 'rating', test_size=0.9)\n",
        "\n",
        "# Case 2: Training data contains 90% of the entire data\n",
        "X_train_2c, X_test_2c, y_train_2c, y_test_2c = prepare_data(df, most_correlated_features, 'rating', test_size=0.1)\n",
        "X_train_2d, X_test_2d, y_train_2d, y_test_2d = prepare_data(df, least_correlated_features, 'rating', test_size=0.1)\n",
        "\n",
        "# Set up the models\n",
        "model_1a = linear_model.LinearRegression()\n",
        "model_1b = linear_model.LinearRegression()\n",
        "model_2c = linear_model.LinearRegression()\n",
        "model_2d = linear_model.LinearRegression()\n",
        "\n",
        "# Train the models\n",
        "model_1a.fit(X_train_1a, y_train_1a)\n",
        "model_1b.fit(X_train_1b, y_train_1b)\n",
        "model_2c.fit(X_train_2c, y_train_2c)\n",
        "model_2d.fit(X_train_2d, y_train_2d)"
      ]
    },
    {
      "cell_type": "markdown",
      "id": "KATSn7hYlA_Z",
      "metadata": {
        "id": "KATSn7hYlA_Z"
      },
      "source": [
        "### Evaluate Models\n",
        "* Evaluate the performance of the four models with two metrics, including MSE and Root MSE\n",
        "* Print the results of the four models regarding the two metrics"
      ]
    },
    {
      "cell_type": "code",
      "execution_count": 97,
      "id": "2da3153d",
      "metadata": {},
      "outputs": [
        {
          "name": "stdout",
          "output_type": "stream",
          "text": [
            "Model 1a: MSE = 1.7846870468004477 RMSE = 1.3359217966634302\n",
            "Model 1b: MSE = 1.8382768810741097 RMSE = 1.3558306977916195\n",
            "Model 2c: MSE = 1.6109828009740266 RMSE = 1.269244972798406\n",
            "Model 2d: MSE = 1.6432233129465736 RMSE = 1.2818827219939326\n"
          ]
        }
      ],
      "source": [
        "def evaluate_model(model, X_test, y_test):\n",
        "    predictions = model.predict(X_test)\n",
        "    mse = mean_squared_error(y_test, predictions) # Using mean_squared_error function\n",
        "    rmse = np.sqrt(mse)\n",
        "    return mse, rmse\n",
        "\n",
        "# Evaluate the models\n",
        "mse_1a, rmse_1a = evaluate_model(model_1a, X_test_1a, y_test_1a)\n",
        "mse_1b, rmse_1b = evaluate_model(model_1b, X_test_1b, y_test_1b)\n",
        "mse_2c, rmse_2c = evaluate_model(model_2c, X_test_2c, y_test_2c)\n",
        "mse_2d, rmse_2d = evaluate_model(model_2d, X_test_2d, y_test_2d)\n",
        "\n",
        "# Print the evaluation metrics for each model\n",
        "print(\"Model 1a: MSE =\", mse_1a, \"RMSE =\", rmse_1a)\n",
        "print(\"Model 1b: MSE =\", mse_1b, \"RMSE =\", rmse_1b)\n",
        "print(\"Model 2c: MSE =\", mse_2c, \"RMSE =\", rmse_2c)\n",
        "print(\"Model 2d: MSE =\", mse_2d, \"RMSE =\", rmse_2d)\n"
      ]
    },
    {
      "cell_type": "markdown",
      "id": "Y9jx-eY6lA_a",
      "metadata": {
        "id": "Y9jx-eY6lA_a"
      },
      "source": [
        "### Visualize, Compare and Analyze the Results\n",
        "* Visualize the results, and perform ___insightful analysis___ on the obtained results. For better visualization, you may need to carefully set the scale for the y-axis.\n",
        "* Normally, the model trained with most correlated features and more training data will get better results. Do you obtain the similar observations? If not, please ___explain the possible reasons___."
      ]
    },
    {
      "cell_type": "markdown",
      "id": "d61ba433",
      "metadata": {},
      "source": [
        "#### Visualization of the results"
      ]
    },
    {
      "cell_type": "code",
      "execution_count": 98,
      "id": "c68777d0",
      "metadata": {},
      "outputs": [
        {
          "data": {
            "image/png": "[encoded data removed]",
            "text/plain": [
              "<Figure size 1500x800 with 1 Axes>"
            ]
          },
          "metadata": {},
          "output_type": "display_data"
        }
      ],
      "source": [
        "# Define the models and their MSE and RMSE results\n",
        "models = ['Model 1a', 'Model 1b', 'Model 2c', 'Model 2d']\n",
        "mse_results = [mse_1a, mse_1b, mse_2c, mse_2d]\n",
        "rmse_results = [rmse_1a, rmse_1b, rmse_2c, rmse_2d]\n",
        "\n",
        "# Define the index for the x-coordinates of the bars in the bar plot and the width\n",
        "index = np.arange(len(models))\n",
        "bar_width = 0.35\n",
        "\n",
        "# Create a bar plot for MSE and RMSE of each model\n",
        "plt.figure(figsize=(15, 8))\n",
        "bars1 = plt.bar(index, mse_results, \n",
        "                bar_width, color='darkblue', alpha=0.75, label='MSE')\n",
        "bars2 = plt.bar(index + bar_width, rmse_results, \n",
        "                bar_width, color='darkred', alpha=0.75, label='RMSE')\n",
        "\n",
        "# Add data labels above the bars\n",
        "for bars in [bars1, bars2]:\n",
        "    for bar in bars:\n",
        "        y_value = bar.get_height()\n",
        "        plt.text(bar.get_x() + (bar.get_width()/2), \n",
        "                 y_value + 0.01, round(y_value, 2), \n",
        "                 horizontalalignment='center', verticalalignment='bottom')\n",
        "\n",
        "# Set the x-axis & y-axis labels and the title\n",
        "plt.xlabel('Model', size = 15)\n",
        "plt.ylabel('Score', size =15)\n",
        "plt.title('MSE and RMSE for Each Model', size = 15)\n",
        "plt.xticks(index + bar_width / 2, models)  # Position the x-axis labels in the center of the bars groups\n",
        "plt.ylim(0, max(max(mse_results), max(rmse_results)) * 1.1) # Adjust the y-axis limits to make sure the data labels are not cut off\n",
        "\n",
        "# Add a legend and show the plot\n",
        "plt.legend()\n",
        "plt.show()\n"
      ]
    },
    {
      "cell_type": "markdown",
      "id": "a143c42c",
      "metadata": {},
      "source": [
        "#### Analysis of the results"
      ]
    },
    {
      "cell_type": "markdown",
      "id": "33ccd450",
      "metadata": {},
      "source": [
        "##### 1. The impacts of the data size\n",
        "- By comparing models trained with the same features (either the two most correlated or the two least correlated), we observe that the models trained with more training data (90% of the entire data, Case 2) generally perform better than the models trained with a smaller training dataset (10% of the entire data, Case 1).\n",
        "\n",
        "- Specifically, Model 2c (Case 2, most correlated features) has lower MSE (1.61) and RMSE (1.27) compared to Model 1a (Case 1, most correlated features) with MSE of 1.78 and RMSE of 1.34.\n",
        "\n",
        "- In comparison to Model 1b having MSE of 1.84 and RMSE of 1.36 (Case 1, least correlated features), Model 2d (Case 2, least correlated features) is considered better due to its lower MSE (1.64) and RMSE (1.28). "
      ]
    },
    {
      "cell_type": "markdown",
      "id": "3479807c",
      "metadata": {},
      "source": [
        "##### 2. The impacts of feature selection\n",
        "- For both Case 1 (training data of 10%) and Case 2 (training data of 90%), the models trained with the two most correlated features consistently outperform the models trained with the two least correlated features.\n",
        "\n",
        "- In Case 1, lower values of MSE (1.78) and RMSE (1.34) are witnessed in Model 1a (most correlated features) compared to those of MSE (1.84) and RMSE (1.36) in Model 1b (least correlated features) \n",
        "\n",
        "- In Case 2, Model 2c (most correlated features) has lower MSE (1.61) and RMSE (1.27) in comparison to Model 2d (least correlated features) with MSE of 1.64 and RMSE of 1.28."
      ]
    },
    {
      "cell_type": "markdown",
      "id": "5fad9be7",
      "metadata": {},
      "source": [
        "##### 3. Overall conclusion:\n",
        "\n",
        "- The model with the best overall performance, in terms of having the lowest MSE (1.61) and RMSE (1.27), is <font color=\"orange\"> __Model 2c__ </font> . This model is trained with the two most correlated features (___category_encode___ & ___review_encode___) and the larger training dataset (90% of the entire data, Case 2).\n",
        "\n",
        "- Regarding the highest values of MSE and RMSE, i.e. the worst overall performance, it is <font color=\"orange\"> __Model 1b__ </font> with MSE (1.84) and RMSE (1.36). This model is trained using the smaller training data (only 10% of the entire data, Case 1) along with the two least correlated features (___helpfulness____ & ___gender_encode___).\n",
        "\n",
        "- The models' results clearly demonstrate the fundamental principles of machine learning. When models are trained with features that have a stronger correlation with the target variable, they tend to produce better results, which can affect their ability to make accurate predictions. \n",
        "\n",
        "- The importance of the size of the training/ testing data on the performance model is also highlighted via the models' outputs. The more data is employed to train the model, the better it can learn from the attributes of the current data, thereby enhancing its capacity to generalize better to unseen data."
      ]
    },
    {
      "cell_type": "markdown",
      "id": "f9ee01ac",
      "metadata": {
        "id": "f9ee01ac"
      },
      "source": [
        "### Data Science Ethics\n",
        "*Please read the following examples [Click here to read the example_1.](https://www.vox.com/covid-19-coronavirus-us-response-trump/2020/5/18/21262265/georgia-covid-19-cases-declining-reopening) [Click here to read the example_2.](https://viborc.com/ethics-and-ethical-data-visualization-a-complete-guide/)\n",
        "\n",
        "*Then view the picture ![My Image](figure_portfolio2.png \"This is my image\")\n",
        "Please compose an analysis of 100-200 words that evaluates potential ethical concerns associated with the infographic, detailing the reasons behind these issues.\n"
      ]
    },
    {
      "cell_type": "markdown",
      "id": "f937ff49",
      "metadata": {},
      "source": [
        "#### Data Science Ethics on The Inforgraphic of 2008 Summer Olympic Medals\n",
        "\n",
        "- The given infographic provides details on two tables of the medal counts from the 2008 Summer Olympics, arranged by total medals (Table 1) and gold medals (Table 2). Despite its straightforward nature in the comparison of the countries’ performance in the sports competition, the infographic might raise several potential ethical concerns related to data visualization practices.\n",
        "\n",
        "- Firstly, the two tables may cause misinterpretation due to their sorting criteria. While Table 1 ranks countries by the total number of medals won, the number of gold medals is chosen as the criteria to rank participating countries. This way of sorting could lead to confusion about which country really won the Olympics, as audiences might not easily notice the difference between two tables in terms of sorting methods. Moreover, placing one table above the other could “unintentionally” create a perceived hierarchy between them, implying that the information in Table 1 holds more significance than that in Table 2. People might find it difficult to understand which country performed better and could assume the tables are contradictory or the arrangement of data is misorganized.\n",
        "\n",
        "- A further ethical concern is the possibility of presentation bias in the data. The potential bias in favour of the United States is indicated by the data arrangement and design, as evidenced by its top-ranked position in Table 1 and its substantial total medal count. In terms of gold medals, China exhibited superior performance compared to the United States; however, this table holds the second position, as previously stated. This could be seen as downplaying the significance of China's accomplishments at the Olympics.\n",
        "\n",
        "- Lastly, compared to Table 1, the size of Table 2 is unbalanced with the data, causing the inside content (title, nations' names and flags, data label, etc.) to be smaller and less prominent. This inconsistency in the representation might give less visual importance to the countries in Table 2.\n",
        "\n"
      ]
    }
  ],
  "metadata": {
    "colab": {
      "provenance": []
    },
    "kernelspec": {
      "display_name": "Python 3 (ipykernel)",
      "language": "python",
      "name": "python3"
    },
    "language_info": {
      "codemirror_mode": {
        "name": "ipython",
        "version": 3
      },
      "file_extension": ".py",
      "mimetype": "text/x-python",
      "name": "python",
      "nbconvert_exporter": "python",
      "pygments_lexer": "ipython3",
      "version": "3.11.5"
    }
  },
  "nbformat": 4,
  "nbformat_minor": 5
}
